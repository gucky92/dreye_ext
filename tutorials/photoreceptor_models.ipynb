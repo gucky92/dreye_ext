{
 "cells": [
  {
   "cell_type": "markdown",
   "metadata": {},
   "source": [
    "# Using and building photoreceptor models"
   ]
  },
  {
   "cell_type": "markdown",
   "metadata": {},
   "source": [
    "The dreye package has multiple simple photoreceptor models implemented:\n",
    "* `LinearPhotoreceptor`\n",
    "* `LinearContrastPhotoreceptor`\n",
    "* `LogPhotoreceptor`\n",
    "* `HyperbolicPhotoreceptor`\n",
    "\n",
    "More complicated photoreceptor models will be implemented in the future, and we always encourage contribution of new photoreceptor models.\n",
    "\n",
    "The following are the core methods for `Photoreceptor classes`:\n",
    "* `capture`\n",
    "* `excitation`"
   ]
  },
  {
   "cell_type": "code",
   "execution_count": 4,
   "metadata": {},
   "outputs": [],
   "source": [
    "import numpy as np\n",
    "\n",
    "from dreye import (\n",
    "    Photoreceptor, LinearPhotoreceptor, \n",
    "    LogPhotoreceptor, HyperbolicPhotoreceptor, \n",
    "    LinearContrastPhotoreceptor\n",
    ")"
   ]
  },
  {
   "cell_type": "code",
   "execution_count": 7,
   "metadata": {},
   "outputs": [
    {
     "data": {
      "text/plain": [
       "dreye.core.photoreceptor.LinearPhotoreceptor"
      ]
     },
     "execution_count": 7,
     "metadata": {},
     "output_type": "execute_result"
    }
   ],
   "source": [
    "LinearPhotoreceptor"
   ]
  },
  {
   "cell_type": "markdown",
   "metadata": {},
   "source": [
    "TODO"
   ]
  },
  {
   "cell_type": "code",
   "execution_count": null,
   "metadata": {},
   "outputs": [],
   "source": []
  }
 ],
 "metadata": {
  "kernelspec": {
   "display_name": "Python 3",
   "language": "python",
   "name": "python3"
  },
  "language_info": {
   "codemirror_mode": {
    "name": "ipython",
    "version": 3
   },
   "file_extension": ".py",
   "mimetype": "text/x-python",
   "name": "python",
   "nbconvert_exporter": "python",
   "pygments_lexer": "ipython3",
   "version": "3.7.4"
  },
  "widgets": {
   "application/vnd.jupyter.widget-state+json": {
    "state": {},
    "version_major": 2,
    "version_minor": 0
   }
  }
 },
 "nbformat": 4,
 "nbformat_minor": 4
}
