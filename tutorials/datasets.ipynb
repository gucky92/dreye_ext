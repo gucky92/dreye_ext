{
 "cells": [
  {
   "cell_type": "code",
   "execution_count": 1,
   "id": "recognized-thanks",
   "metadata": {},
   "outputs": [],
   "source": [
    "from dreye import datasets\n",
    "import dreye\n",
    "import pandas as pd"
   ]
  },
  {
   "cell_type": "code",
   "execution_count": 7,
   "id": "grand-projector",
   "metadata": {},
   "outputs": [],
   "source": [
    "spectra = datasets.load_spitschan2016()"
   ]
  },
  {
   "cell_type": "code",
   "execution_count": 2,
   "id": "biblical-cigarette",
   "metadata": {},
   "outputs": [],
   "source": [
    "spectra2 = datasets.load_granada()"
   ]
  },
  {
   "cell_type": "code",
   "execution_count": 5,
   "id": "acknowledged-conservative",
   "metadata": {},
   "outputs": [],
   "source": [
    "refls = datasets.load_flowers()"
   ]
  },
  {
   "cell_type": "code",
   "execution_count": null,
   "id": "internal-island",
   "metadata": {},
   "outputs": [],
   "source": []
  }
 ],
 "metadata": {
  "kernelspec": {
   "display_name": "Python 3",
   "language": "python",
   "name": "python3"
  },
  "language_info": {
   "codemirror_mode": {
    "name": "ipython",
    "version": 3
   },
   "file_extension": ".py",
   "mimetype": "text/x-python",
   "name": "python",
   "nbconvert_exporter": "python",
   "pygments_lexer": "ipython3",
   "version": "3.9.1"
  }
 },
 "nbformat": 4,
 "nbformat_minor": 5
}
