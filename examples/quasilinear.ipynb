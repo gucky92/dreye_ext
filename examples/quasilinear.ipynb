{
 "cells": [
  {
   "cell_type": "code",
   "execution_count": 1,
   "id": "c936bc20-c610-4c86-9f3e-bd82bd0ff794",
   "metadata": {},
   "outputs": [],
   "source": [
    "from dreye.api.optimize import lsq_linear as lsq\n",
    "import numpy as np\n",
    "import cvxpy as cp"
   ]
  },
  {
   "cell_type": "code",
   "execution_count": 2,
   "id": "25275f7b-ef43-444f-b696-6bf48b91a889",
   "metadata": {},
   "outputs": [],
   "source": [
    "n, m = 4, 6\n",
    "A = np.random.random((n, m))\n",
    "xtarget = np.ones(m)/2\n",
    "#np.random.random(m)\n",
    "qtarget = A @ xtarget\n",
    "# qtarget = np.random.random((1, m))\n",
    "etarget = qtarget / (1+qtarget)"
   ]
  },
  {
   "cell_type": "code",
   "execution_count": 3,
   "id": "eb27d05e-1c35-4880-ae14-f0ffa0882b3e",
   "metadata": {},
   "outputs": [],
   "source": [
    "x = cp.Variable((m), pos=True)"
   ]
  },
  {
   "cell_type": "code",
   "execution_count": 4,
   "id": "7131f9dd-0067-4461-8269-0ea39fd913e1",
   "metadata": {},
   "outputs": [],
   "source": [
    "q = A @ x"
   ]
  },
  {
   "cell_type": "code",
   "execution_count": 5,
   "id": "6ba09f21-b183-447a-9877-3695dc0fce7f",
   "metadata": {},
   "outputs": [],
   "source": [
    "e = q / (1+q)"
   ]
  },
  {
   "cell_type": "code",
   "execution_count": 6,
   "id": "bc25a5dc-8a32-47ed-9d77-45d1e4388b54",
   "metadata": {},
   "outputs": [
    {
     "data": {
      "text/plain": [
       "Expression(QUASILINEAR, NONNEGATIVE, (4,))"
      ]
     },
     "execution_count": 6,
     "metadata": {},
     "output_type": "execute_result"
    }
   ],
   "source": [
    "e"
   ]
  },
  {
   "cell_type": "code",
   "execution_count": 7,
   "id": "f31700d2-bc07-49ef-bd80-286064e81532",
   "metadata": {},
   "outputs": [
    {
     "data": {
      "text/plain": [
       "Expression(QUASILINEAR, NONNEGATIVE, ())"
      ]
     },
     "execution_count": 7,
     "metadata": {},
     "output_type": "execute_result"
    }
   ],
   "source": [
    "cp.sum(q)/cp.sum(1+q)  # intensity"
   ]
  },
  {
   "cell_type": "code",
   "execution_count": 8,
   "id": "30f93a27-9237-4a8b-bd89-1f88c50c5032",
   "metadata": {},
   "outputs": [],
   "source": [
    "c = cp.Variable(1, pos=True)"
   ]
  },
  {
   "cell_type": "code",
   "execution_count": 9,
   "id": "4bdca344-6548-47df-87ad-8df770bab045",
   "metadata": {},
   "outputs": [
    {
     "data": {
      "text/plain": [
       "Expression(QUASILINEAR, NONNEGATIVE, (4,))"
      ]
     },
     "execution_count": 9,
     "metadata": {},
     "output_type": "execute_result"
    }
   ],
   "source": [
    "q/cp.sum(q)"
   ]
  },
  {
   "cell_type": "code",
   "execution_count": 10,
   "id": "56d65df5-a7de-4e9c-b37a-6f5f6212b72c",
   "metadata": {},
   "outputs": [
    {
     "data": {
      "text/plain": [
       "Equality(Expression(AFFINE, NONNEGATIVE, (4,)), Expression(AFFINE, NONNEGATIVE, (4,)))"
      ]
     },
     "execution_count": 10,
     "metadata": {},
     "output_type": "execute_result"
    }
   ],
   "source": [
    "q == cp.sum(q) * qtarget/np.sum(qtarget)"
   ]
  },
  {
   "cell_type": "code",
   "execution_count": 11,
   "id": "963c07d1-4d44-48b4-b3f8-414c7cb44060",
   "metadata": {},
   "outputs": [],
   "source": [
    "testc = cp.sum(q) == np.sum(qtarget)/np.sum(1+qtarget) * cp.sum(1+q)"
   ]
  },
  {
   "cell_type": "code",
   "execution_count": 12,
   "id": "9e05e66b-b41b-4599-8002-ab54144ec4d6",
   "metadata": {},
   "outputs": [
    {
     "data": {
      "text/plain": [
       "True"
      ]
     },
     "execution_count": 12,
     "metadata": {},
     "output_type": "execute_result"
    }
   ],
   "source": [
    "testc.is_dqcp()"
   ]
  },
  {
   "cell_type": "code",
   "execution_count": 13,
   "id": "e17bbc65-73a5-422c-980f-b988800f4bbd",
   "metadata": {},
   "outputs": [],
   "source": [
    "denom = cp.multiply((1+q), (1+qtarget))"
   ]
  },
  {
   "cell_type": "code",
   "execution_count": 14,
   "id": "68fe9956-60d0-413d-9e7b-356af93d0445",
   "metadata": {},
   "outputs": [],
   "source": [
    "num = q - qtarget"
   ]
  },
  {
   "cell_type": "code",
   "execution_count": 15,
   "id": "81041acd-95df-4185-8e69-e5e6d28de15b",
   "metadata": {},
   "outputs": [
    {
     "data": {
      "text/plain": [
       "Expression(UNKNOWN, NONNEGATIVE, ())"
      ]
     },
     "execution_count": 15,
     "metadata": {},
     "output_type": "execute_result"
    }
   ],
   "source": [
    "cp.sum(cp.abs(num) / denom)"
   ]
  },
  {
   "cell_type": "code",
   "execution_count": 16,
   "id": "46748865-f95c-4432-846f-e9a6fcdef5e2",
   "metadata": {},
   "outputs": [],
   "source": [
    "obj = cp.Minimize(cp.max(cp.abs(num)/denom))"
   ]
  },
  {
   "cell_type": "code",
   "execution_count": 17,
   "id": "807e3030-ffea-421d-b784-07f60691976c",
   "metadata": {},
   "outputs": [],
   "source": [
    "constraints = [\n",
    "    x <= 1\n",
    "]"
   ]
  },
  {
   "cell_type": "code",
   "execution_count": 18,
   "id": "1355dbee-8788-493c-8e1f-71ae021cf75e",
   "metadata": {},
   "outputs": [
    {
     "data": {
      "text/plain": [
       "Minimize(Expression(CONVEX, NONNEGATIVE, ()))"
      ]
     },
     "execution_count": 18,
     "metadata": {},
     "output_type": "execute_result"
    }
   ],
   "source": [
    "obj = cp.Minimize(cp.sum_squares(x - cp.sum(x)/x.size))\n",
    "obj"
   ]
  },
  {
   "cell_type": "code",
   "execution_count": 19,
   "id": "3d978b27-429b-477d-8c07-f6ff70e3a9e1",
   "metadata": {},
   "outputs": [],
   "source": [
    "constraints = [\n",
    "    x <= 1, \n",
    "    cp.max(cp.abs(num)/denom) <= 1e-4\n",
    "]"
   ]
  },
  {
   "cell_type": "code",
   "execution_count": 20,
   "id": "02aec388-69d9-4100-9e25-bca19137c09b",
   "metadata": {},
   "outputs": [],
   "source": [
    "prob = cp.Problem(obj, constraints)"
   ]
  },
  {
   "cell_type": "code",
   "execution_count": 21,
   "id": "6fec2fb4-a195-4f15-a952-6386830e171d",
   "metadata": {},
   "outputs": [
    {
     "data": {
      "text/plain": [
       "Problem(Minimize(Expression(CONVEX, NONNEGATIVE, ())), [Inequality(Variable((6,), pos=True)), Inequality(Expression(QUASICONVEX, NONNEGATIVE, ()))])"
      ]
     },
     "execution_count": 21,
     "metadata": {},
     "output_type": "execute_result"
    }
   ],
   "source": [
    "prob"
   ]
  },
  {
   "cell_type": "code",
   "execution_count": 22,
   "id": "31f5739e-c24a-4668-8c0c-30b40114481d",
   "metadata": {
    "collapsed": true,
    "jupyter": {
     "outputs_hidden": true
    },
    "tags": []
   },
   "outputs": [
    {
     "name": "stdout",
     "output_type": "stream",
     "text": [
      "===============================================================================\n",
      "                                     CVXPY                                     \n",
      "                                    v1.1.15                                    \n",
      "===============================================================================\n",
      "(CVXPY) Nov 18 02:32:23 PM: Your problem has 6 variables, 2 constraints, and 0 parameters.\n",
      "(CVXPY) Nov 18 02:32:23 PM: It is compliant with the following grammars: DQCP\n",
      "(CVXPY) Nov 18 02:32:23 PM: (If you need to solve this problem multiple times, but with different data, consider using parameters.)\n",
      "(CVXPY) Nov 18 02:32:23 PM: CVXPY will first compile your problem; then, it will invoke a numerical solver to obtain a solution.\n",
      "(CVXPY) Nov 18 02:32:23 PM: Reducing DQCP problem to a one-parameter family of DCP problems, for bisection.\n",
      "\n",
      "********************************************************************************\n",
      "Preparing to bisect problem\n",
      "\n",
      "minimize 0.0\n",
      "subject to var0 <= 1.0\n",
      "           var77 <= Promote(0.0001, (4,)) @ (Promote(1.0, (4,)) + [[0.40267283 0.06814158 0.12976985 0.19794656 0.02513138 0.5106845 ]\n",
      " [0.30273405 0.34607807 0.04241753 0.89411527 0.47904686 0.97051515]\n",
      " [0.80660236 0.32414774 0.79814053 0.97071104 0.50764985 0.56050934]\n",
      " [0.76884552 0.90223827 0.60912435 0.30612632 0.78904906 0.57974218]] @ var0) @ [1.66717334 2.51745346 2.98388042 2.97756284]\n",
      "           [[0.40267283 0.06814158 0.12976985 0.19794656 0.02513138 0.5106845 ]\n",
      " [0.30273405 0.34607807 0.04241753 0.89411527 0.47904686 0.97051515]\n",
      " [0.80660236 0.32414774 0.79814053 0.97071104 0.50764985 0.56050934]\n",
      " [0.76884552 0.90223827 0.60912435 0.30612632 0.78904906 0.57974218]] @ var0 + -[0.66717334 1.51745346 1.98388042 1.97756284] <= var77\n",
      "           -[[0.40267283 0.06814158 0.12976985 0.19794656 0.02513138 0.5106845 ]\n",
      " [0.30273405 0.34607807 0.04241753 0.89411527 0.47904686 0.97051515]\n",
      " [0.80660236 0.32414774 0.79814053 0.97071104 0.50764985 0.56050934]\n",
      " [0.76884552 0.90223827 0.60912435 0.30612632 0.78904906 0.57974218]] @ var0 + -[0.66717334 1.51745346 1.98388042 1.97756284] <= var77\n",
      "           var108 <= param97\n",
      "           SOC(reshape(1.0, (1,), F) + var108, Hstack(reshape(1.0, (1,), F) + -var108, Promote(2.0, (6,)) @ reshape(var0 + Promote(-Sum(var0, None, False) / 6.0, (6,)), (6,), F)))\n",
      "\n",
      "Finding interval for bisection ...\n",
      "initial lower bound: 0.000000\n",
      "initial upper bound: 1.000000\n",
      "\n",
      "(iteration 0) lower bound: 0.000000\n",
      "(iteration 0) upper bound: 1.000000\n",
      "(iteration 0) query point: 0.500000 \n",
      "(iteration 0) query was feasible. Solution(status=optimal, opt_val=0.0, primal_vars={0: array([0.49996319, 0.49992537, 0.4999184 , 0.49995623, 0.4999376 ,\n",
      "       0.4999616 ]), 77: array([8.48905806e-05, 2.05298958e-04, 2.99455612e-04, 3.32697778e-04]), 108: array([0.19304694])}, dual_vars={57: array([0., 0., 0., 0., 0., 0.]), 95: array([0., 0., 0., 0.]), 80: array([0., 0., 0., 0.]), 85: array([0., 0., 0., 0.]), 100: array([0.]), 116: array([0., 0., 0., 0., 0., 0., 0., 0.])}, attr={'solve_time': 0.086625, 'setup_time': 0.081542, 'num_iters': 9, 'solver_specific_stats': {'x': array([4.99963187e-01, 4.99925369e-01, 4.99918396e-01, 4.99956228e-01,\n",
      "       4.99937599e-01, 4.99961595e-01, 8.48905806e-05, 2.05298958e-04,\n",
      "       2.99455612e-04, 3.32697778e-04, 1.93046943e-01]), 'y': array([0., 0., 0., 0., 0., 0., 0., 0., 0., 0., 0., 0., 0., 0., 0., 0., 0.,\n",
      "       0., 0., 0., 0., 0., 0., 0., 0., 0., 0., 0., 0., 0., 0., 0., 0., 0.,\n",
      "       0., 0., 0.]), 's': array([ 4.99963187e-01,  4.99925369e-01,  4.99918396e-01,  4.99956228e-01,\n",
      "        4.99937599e-01,  4.99961595e-01,  8.48905805e-05,  2.05298958e-04,\n",
      "        2.99455612e-04,  3.32697778e-04,  5.00036813e-01,  5.00074631e-01,\n",
      "        5.00081604e-01,  5.00043772e-01,  5.00062401e-01,  5.00038405e-01,\n",
      "        1.93046054e-04,  4.28421295e-04,  5.90834559e-04,  5.53821714e-04,\n",
      "        1.45234854e-04,  3.52035944e-04,  5.14166110e-04,  5.62945552e-04,\n",
      "        2.45463070e-05,  5.85619725e-05,  8.47451154e-05,  1.02450004e-04,\n",
      "        3.06953057e-01,  1.19304694e+00,  8.06953057e-01,  3.89158978e-05,\n",
      "       -3.67203243e-05, -5.06654600e-05,  2.49979345e-05, -1.22605567e-05,\n",
      "        3.57325086e-05]), 'info': {'statusVal': 1, 'iter': 9, 'pobj': 0.0, 'dobj': -0.0, 'resPri': 2.296542341410089e-14, 'resDual': 0.0, 'relGap': 0.0, 'resInfeas': nan, 'resUnbdd': nan, 'solveTime': 0.086625, 'setupTime': 0.081542, 'status': 'Solved'}}}))\n",
      "\n",
      "(iteration 5) lower bound: 0.000000\n",
      "(iteration 5) upper bound: 0.031250\n",
      "(iteration 5) query point: 0.015625 \n",
      "(iteration 5) query was feasible. Solution(status=optimal, opt_val=0.0, primal_vars={0: array([0.49996322, 0.4999254 , 0.49991843, 0.49995624, 0.49993763,\n",
      "       0.49996161]), 77: array([8.48920186e-05, 2.05322702e-04, 2.99514600e-04, 3.32798319e-04]), 108: array([0.00603272])}, dual_vars={57: array([0., 0., 0., 0., 0., 0.]), 95: array([0., 0., 0., 0.]), 80: array([0., 0., 0., 0.]), 85: array([0., 0., 0., 0.]), 100: array([0.]), 116: array([0., 0., 0., 0., 0., 0., 0., 0.])}, attr={'solve_time': 0.06725, 'setup_time': 0.051167, 'num_iters': 9, 'solver_specific_stats': {'x': array([4.99963217e-01, 4.99925402e-01, 4.99918426e-01, 4.99956245e-01,\n",
      "       4.99937629e-01, 4.99961614e-01, 8.48920186e-05, 2.05322702e-04,\n",
      "       2.99514600e-04, 3.32798319e-04, 6.03271697e-03]), 'y': array([0., 0., 0., 0., 0., 0., 0., 0., 0., 0., 0., 0., 0., 0., 0., 0., 0.,\n",
      "       0., 0., 0., 0., 0., 0., 0., 0., 0., 0., 0., 0., 0., 0., 0., 0., 0.,\n",
      "       0., 0., 0.]), 's': array([ 4.99963217e-01,  4.99925402e-01,  4.99918426e-01,  4.99956245e-01,\n",
      "        4.99937629e-01,  4.99961614e-01,  8.48920186e-05,  2.05322702e-04,\n",
      "        2.99514600e-04,  3.32798319e-04,  5.00036783e-01,  5.00074598e-01,\n",
      "        5.00081574e-01,  5.00043755e-01,  5.00062371e-01,  5.00038386e-01,\n",
      "        1.93044622e-04,  4.28397569e-04,  5.90775602e-04,  5.53721205e-04,\n",
      "        1.45204645e-04,  3.51990157e-04,  5.14124778e-04,  5.62935642e-04,\n",
      "        2.45793926e-05,  5.86552473e-05,  8.49044217e-05,  1.02660997e-04,\n",
      "        9.59228303e-03,  1.00603272e+00,  9.93967283e-01,  3.89223887e-05,\n",
      "       -3.67071065e-05, -5.06595464e-05,  2.49790184e-05, -1.22521293e-05,\n",
      "        3.57173751e-05]), 'info': {'statusVal': 1, 'iter': 9, 'pobj': 0.0, 'dobj': -0.0, 'resPri': 1.9969483687111108e-14, 'resDual': 0.0, 'relGap': 0.0, 'resInfeas': nan, 'resUnbdd': nan, 'solveTime': 0.06725, 'setupTime': 0.051167, 'status': 'Solved'}}}))\n",
      "\n",
      "(iteration 10) lower bound: 0.000000\n",
      "(iteration 10) upper bound: 0.000977\n",
      "(iteration 10) query point: 0.000488 \n",
      "(iteration 10) query was feasible. Solution(status=optimal, opt_val=0.0, primal_vars={0: array([0.49996322, 0.4999254 , 0.49991843, 0.49995624, 0.49993763,\n",
      "       0.49996161]), 77: array([8.48920200e-05, 2.05322726e-04, 2.99514659e-04, 3.32798420e-04]), 108: array([0.00018852])}, dual_vars={57: array([0., 0., 0., 0., 0., 0.]), 95: array([0., 0., 0., 0.]), 80: array([0., 0., 0., 0.]), 85: array([0., 0., 0., 0.]), 100: array([0.]), 116: array([0., 0., 0., 0., 0., 0., 0., 0.])}, attr={'solve_time': 0.075209, 'setup_time': 0.042541, 'num_iters': 9, 'solver_specific_stats': {'x': array([4.99963217e-01, 4.99925402e-01, 4.99918426e-01, 4.99956245e-01,\n",
      "       4.99937629e-01, 4.99961614e-01, 8.48920200e-05, 2.05322726e-04,\n",
      "       2.99514659e-04, 3.32798420e-04, 1.88522405e-04]), 'y': array([0., 0., 0., 0., 0., 0., 0., 0., 0., 0., 0., 0., 0., 0., 0., 0., 0.,\n",
      "       0., 0., 0., 0., 0., 0., 0., 0., 0., 0., 0., 0., 0., 0., 0., 0., 0.,\n",
      "       0., 0., 0.]), 's': array([ 4.99963217e-01,  4.99925402e-01,  4.99918426e-01,  4.99956245e-01,\n",
      "        4.99937629e-01,  4.99961614e-01,  8.48920200e-05,  2.05322726e-04,\n",
      "        2.99514659e-04,  3.32798420e-04,  5.00036783e-01,  5.00074598e-01,\n",
      "        5.00081574e-01,  5.00043755e-01,  5.00062371e-01,  5.00038386e-01,\n",
      "        1.93044620e-04,  4.28397545e-04,  5.90775543e-04,  5.53721105e-04,\n",
      "        1.45204614e-04,  3.51990111e-04,  5.14124736e-04,  5.62935632e-04,\n",
      "        2.45794257e-05,  5.86553406e-05,  8.49045812e-05,  1.02661208e-04,\n",
      "        2.99758845e-04,  1.00018852e+00,  9.99811478e-01,  3.89223952e-05,\n",
      "       -3.67070932e-05, -5.06595405e-05,  2.49789994e-05, -1.22521209e-05,\n",
      "        3.57173599e-05]), 'info': {'statusVal': 1, 'iter': 9, 'pobj': 0.0, 'dobj': -0.0, 'resPri': 4.4229579997895475e-14, 'resDual': 0.0, 'relGap': 0.0, 'resInfeas': nan, 'resUnbdd': nan, 'solveTime': 0.075209, 'setupTime': 0.042541, 'status': 'Solved'}}}))\n",
      "\n",
      "(iteration 15) lower bound: 0.000000\n",
      "(iteration 15) upper bound: 0.000031\n",
      "(iteration 15) query point: 0.000015 \n",
      "(iteration 15) query was feasible. Solution(status=optimal, opt_val=0.0, primal_vars={0: array([0.49996322, 0.4999254 , 0.49991843, 0.49995624, 0.49993763,\n",
      "       0.49996161]), 77: array([8.48920200e-05, 2.05322726e-04, 2.99514659e-04, 3.32798420e-04]), 108: array([5.89132516e-06])}, dual_vars={57: array([0., 0., 0., 0., 0., 0.]), 95: array([0., 0., 0., 0.]), 80: array([0., 0., 0., 0.]), 85: array([0., 0., 0., 0.]), 100: array([0.]), 116: array([0., 0., 0., 0., 0., 0., 0., 0.])}, attr={'solve_time': 0.072125, 'setup_time': 0.041959, 'num_iters': 9, 'solver_specific_stats': {'x': array([4.99963217e-01, 4.99925402e-01, 4.99918426e-01, 4.99956245e-01,\n",
      "       4.99937629e-01, 4.99961614e-01, 8.48920200e-05, 2.05322726e-04,\n",
      "       2.99514659e-04, 3.32798420e-04, 5.89132516e-06]), 'y': array([0., 0., 0., 0., 0., 0., 0., 0., 0., 0., 0., 0., 0., 0., 0., 0., 0.,\n",
      "       0., 0., 0., 0., 0., 0., 0., 0., 0., 0., 0., 0., 0., 0., 0., 0., 0.,\n",
      "       0., 0., 0.]), 's': array([ 4.99963217e-01,  4.99925402e-01,  4.99918426e-01,  4.99956245e-01,\n",
      "        4.99937629e-01,  4.99961614e-01,  8.48920200e-05,  2.05322726e-04,\n",
      "        2.99514659e-04,  3.32798420e-04,  5.00036783e-01,  5.00074598e-01,\n",
      "        5.00081574e-01,  5.00043755e-01,  5.00062371e-01,  5.00038386e-01,\n",
      "        1.93044620e-04,  4.28397545e-04,  5.90775543e-04,  5.53721104e-04,\n",
      "        1.45204614e-04,  3.51990111e-04,  5.14124736e-04,  5.62935632e-04,\n",
      "        2.45794257e-05,  5.86553406e-05,  8.49045812e-05,  1.02661208e-04,\n",
      "        9.36746390e-06,  1.00000589e+00,  9.99994109e-01,  3.89223952e-05,\n",
      "       -3.67070932e-05, -5.06595404e-05,  2.49789994e-05, -1.22521209e-05,\n",
      "        3.57173599e-05]), 'info': {'statusVal': 1, 'iter': 9, 'pobj': 0.0, 'dobj': -0.0, 'resPri': 1.3511777267354326e-14, 'resDual': 0.0, 'relGap': 0.0, 'resInfeas': nan, 'resUnbdd': nan, 'solveTime': 0.072125, 'setupTime': 0.041959, 'status': 'Solved'}}}))\n",
      "\n",
      "Bisection completed, with lower bound 0.000000 and upper bound 0.0000010\n",
      "********************************************************************************\n",
      "\n"
     ]
    },
    {
     "data": {
      "text/plain": [
       "1.8696368152892263e-09"
      ]
     },
     "execution_count": 22,
     "metadata": {},
     "output_type": "execute_result"
    }
   ],
   "source": [
    "prob.solve(qcp=True, verbose=True, solver=cp.SCS)"
   ]
  },
  {
   "cell_type": "code",
   "execution_count": 23,
   "id": "01936b2a-4eb1-435e-9d49-5a1b9fd8b37e",
   "metadata": {},
   "outputs": [
    {
     "data": {
      "text/plain": [
       "array([0.5, 0.5, 0.5, 0.5, 0.5, 0.5])"
      ]
     },
     "execution_count": 23,
     "metadata": {},
     "output_type": "execute_result"
    }
   ],
   "source": [
    "np.round(x.value, 2)"
   ]
  },
  {
   "cell_type": "code",
   "execution_count": 24,
   "id": "c8ba70f0-5ce7-4cb0-98f1-8f064115864d",
   "metadata": {},
   "outputs": [
    {
     "data": {
      "text/plain": [
       "array([0.5, 0.5, 0.5, 0.5, 0.5, 0.5])"
      ]
     },
     "execution_count": 24,
     "metadata": {},
     "output_type": "execute_result"
    }
   ],
   "source": [
    "xtarget"
   ]
  },
  {
   "cell_type": "code",
   "execution_count": null,
   "id": "b2ed64e6",
   "metadata": {},
   "outputs": [],
   "source": []
  }
 ],
 "metadata": {
  "kernelspec": {
   "display_name": "Python 3 (ipykernel)",
   "language": "python",
   "name": "python3"
  },
  "language_info": {
   "codemirror_mode": {
    "name": "ipython",
    "version": 3
   },
   "file_extension": ".py",
   "mimetype": "text/x-python",
   "name": "python",
   "nbconvert_exporter": "python",
   "pygments_lexer": "ipython3",
   "version": "3.9.7"
  }
 },
 "nbformat": 4,
 "nbformat_minor": 5
}
