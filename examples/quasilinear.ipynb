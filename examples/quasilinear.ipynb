{
 "cells": [
  {
   "cell_type": "code",
   "execution_count": 1,
   "id": "c936bc20-c610-4c86-9f3e-bd82bd0ff794",
   "metadata": {},
   "outputs": [],
   "source": [
    "from dreye.api.optimize import lsq_linear as lsq\n",
    "import numpy as np\n",
    "import cvxpy as cp"
   ]
  },
  {
   "cell_type": "code",
   "execution_count": 2,
   "id": "25275f7b-ef43-444f-b696-6bf48b91a889",
   "metadata": {},
   "outputs": [],
   "source": [
    "n, m = 4, 6\n",
    "A = np.random.random((n, m))\n",
    "xtarget = np.ones(m)/2\n",
    "#np.random.random(m)\n",
    "qtarget = A @ xtarget\n",
    "# qtarget = np.random.random((1, m))\n",
    "etarget = qtarget / (1+qtarget)"
   ]
  },
  {
   "cell_type": "code",
   "execution_count": null,
   "id": "96b6df4b",
   "metadata": {},
   "outputs": [],
   "source": []
  },
  {
   "cell_type": "code",
   "execution_count": 3,
   "id": "eb27d05e-1c35-4880-ae14-f0ffa0882b3e",
   "metadata": {},
   "outputs": [],
   "source": [
    "x = cp.Variable((m), pos=True)"
   ]
  },
  {
   "cell_type": "code",
   "execution_count": 25,
   "id": "18da3845",
   "metadata": {},
   "outputs": [],
   "source": [
    "exprs = cp.sum(cp.multiply(qtarget, cp.log(A @ x)) - A @ x)"
   ]
  },
  {
   "cell_type": "code",
   "execution_count": 26,
   "id": "bba4d0c9",
   "metadata": {},
   "outputs": [
    {
     "data": {
      "text/plain": [
       "'CONCAVE'"
      ]
     },
     "execution_count": 26,
     "metadata": {},
     "output_type": "execute_result"
    }
   ],
   "source": [
    "exprs.curvature"
   ]
  },
  {
   "cell_type": "code",
   "execution_count": 4,
   "id": "7131f9dd-0067-4461-8269-0ea39fd913e1",
   "metadata": {},
   "outputs": [],
   "source": [
    "q = A @ x"
   ]
  },
  {
   "cell_type": "code",
   "execution_count": 5,
   "id": "6ba09f21-b183-447a-9877-3695dc0fce7f",
   "metadata": {},
   "outputs": [],
   "source": [
    "e = q / (1+q)"
   ]
  },
  {
   "cell_type": "code",
   "execution_count": 6,
   "id": "bc25a5dc-8a32-47ed-9d77-45d1e4388b54",
   "metadata": {},
   "outputs": [
    {
     "data": {
      "text/plain": [
       "Expression(QUASILINEAR, NONNEGATIVE, (4,))"
      ]
     },
     "execution_count": 6,
     "metadata": {},
     "output_type": "execute_result"
    }
   ],
   "source": [
    "e"
   ]
  },
  {
   "cell_type": "code",
   "execution_count": 7,
   "id": "f31700d2-bc07-49ef-bd80-286064e81532",
   "metadata": {},
   "outputs": [
    {
     "data": {
      "text/plain": [
       "Expression(QUASILINEAR, NONNEGATIVE, ())"
      ]
     },
     "execution_count": 7,
     "metadata": {},
     "output_type": "execute_result"
    }
   ],
   "source": [
    "cp.sum(q)/cp.sum(1+q)  # intensity"
   ]
  },
  {
   "cell_type": "code",
   "execution_count": 8,
   "id": "30f93a27-9237-4a8b-bd89-1f88c50c5032",
   "metadata": {},
   "outputs": [],
   "source": [
    "c = cp.Variable(1, pos=True)"
   ]
  },
  {
   "cell_type": "code",
   "execution_count": 9,
   "id": "4bdca344-6548-47df-87ad-8df770bab045",
   "metadata": {},
   "outputs": [
    {
     "data": {
      "text/plain": [
       "Expression(QUASILINEAR, NONNEGATIVE, (4,))"
      ]
     },
     "execution_count": 9,
     "metadata": {},
     "output_type": "execute_result"
    }
   ],
   "source": [
    "q/cp.sum(q)"
   ]
  },
  {
   "cell_type": "code",
   "execution_count": 10,
   "id": "56d65df5-a7de-4e9c-b37a-6f5f6212b72c",
   "metadata": {},
   "outputs": [
    {
     "data": {
      "text/plain": [
       "Equality(Expression(AFFINE, NONNEGATIVE, (4,)), Expression(AFFINE, NONNEGATIVE, (4,)))"
      ]
     },
     "execution_count": 10,
     "metadata": {},
     "output_type": "execute_result"
    }
   ],
   "source": [
    "q == cp.sum(q) * qtarget/np.sum(qtarget)"
   ]
  },
  {
   "cell_type": "code",
   "execution_count": 11,
   "id": "963c07d1-4d44-48b4-b3f8-414c7cb44060",
   "metadata": {},
   "outputs": [],
   "source": [
    "testc = cp.sum(q) == np.sum(qtarget)/np.sum(1+qtarget) * cp.sum(1+q)"
   ]
  },
  {
   "cell_type": "code",
   "execution_count": 12,
   "id": "9e05e66b-b41b-4599-8002-ab54144ec4d6",
   "metadata": {},
   "outputs": [
    {
     "data": {
      "text/plain": [
       "True"
      ]
     },
     "execution_count": 12,
     "metadata": {},
     "output_type": "execute_result"
    }
   ],
   "source": [
    "testc.is_dqcp()"
   ]
  },
  {
   "cell_type": "code",
   "execution_count": 13,
   "id": "e17bbc65-73a5-422c-980f-b988800f4bbd",
   "metadata": {},
   "outputs": [],
   "source": [
    "denom = cp.multiply((1+q), (1+qtarget))"
   ]
  },
  {
   "cell_type": "code",
   "execution_count": 14,
   "id": "68fe9956-60d0-413d-9e7b-356af93d0445",
   "metadata": {},
   "outputs": [],
   "source": [
    "num = q - qtarget"
   ]
  },
  {
   "cell_type": "code",
   "execution_count": 15,
   "id": "81041acd-95df-4185-8e69-e5e6d28de15b",
   "metadata": {},
   "outputs": [
    {
     "data": {
      "text/plain": [
       "Expression(UNKNOWN, NONNEGATIVE, ())"
      ]
     },
     "execution_count": 15,
     "metadata": {},
     "output_type": "execute_result"
    }
   ],
   "source": [
    "cp.sum(cp.abs(num) / denom)"
   ]
  },
  {
   "cell_type": "code",
   "execution_count": 16,
   "id": "46748865-f95c-4432-846f-e9a6fcdef5e2",
   "metadata": {},
   "outputs": [],
   "source": [
    "obj = cp.Minimize(cp.max(cp.abs(num)/denom))"
   ]
  },
  {
   "cell_type": "code",
   "execution_count": 17,
   "id": "807e3030-ffea-421d-b784-07f60691976c",
   "metadata": {},
   "outputs": [],
   "source": [
    "constraints = [\n",
    "    x <= 1\n",
    "]"
   ]
  },
  {
   "cell_type": "code",
   "execution_count": 18,
   "id": "1355dbee-8788-493c-8e1f-71ae021cf75e",
   "metadata": {},
   "outputs": [
    {
     "data": {
      "text/plain": [
       "Minimize(Expression(CONVEX, NONNEGATIVE, ()))"
      ]
     },
     "execution_count": 18,
     "metadata": {},
     "output_type": "execute_result"
    }
   ],
   "source": [
    "obj = cp.Minimize(cp.sum_squares(x - cp.sum(x)/x.size))\n",
    "obj"
   ]
  },
  {
   "cell_type": "code",
   "execution_count": 19,
   "id": "3d978b27-429b-477d-8c07-f6ff70e3a9e1",
   "metadata": {},
   "outputs": [],
   "source": [
    "constraints = [\n",
    "    x <= 1, \n",
    "    cp.max(cp.abs(num)/denom) <= 1e-4\n",
    "]"
   ]
  },
  {
   "cell_type": "code",
   "execution_count": 20,
   "id": "02aec388-69d9-4100-9e25-bca19137c09b",
   "metadata": {},
   "outputs": [],
   "source": [
    "prob = cp.Problem(obj, constraints)"
   ]
  },
  {
   "cell_type": "code",
   "execution_count": 21,
   "id": "6fec2fb4-a195-4f15-a952-6386830e171d",
   "metadata": {},
   "outputs": [
    {
     "data": {
      "text/plain": [
       "Problem(Minimize(Expression(CONVEX, NONNEGATIVE, ())), [Inequality(Variable((6,), pos=True)), Inequality(Expression(QUASICONVEX, NONNEGATIVE, ()))])"
      ]
     },
     "execution_count": 21,
     "metadata": {},
     "output_type": "execute_result"
    }
   ],
   "source": [
    "prob"
   ]
  },
  {
   "cell_type": "code",
   "execution_count": 22,
   "id": "31f5739e-c24a-4668-8c0c-30b40114481d",
   "metadata": {
    "collapsed": true,
    "jupyter": {
     "outputs_hidden": true
    },
    "tags": []
   },
   "outputs": [
    {
     "name": "stdout",
     "output_type": "stream",
     "text": [
      "===============================================================================\n",
      "                                     CVXPY                                     \n",
      "                                    v1.1.15                                    \n",
      "===============================================================================\n",
      "(CVXPY) Jan 14 12:03:39 PM: Your problem has 6 variables, 2 constraints, and 0 parameters.\n",
      "(CVXPY) Jan 14 12:03:39 PM: It is compliant with the following grammars: DQCP\n",
      "(CVXPY) Jan 14 12:03:39 PM: (If you need to solve this problem multiple times, but with different data, consider using parameters.)\n",
      "(CVXPY) Jan 14 12:03:39 PM: CVXPY will first compile your problem; then, it will invoke a numerical solver to obtain a solution.\n",
      "(CVXPY) Jan 14 12:03:39 PM: Reducing DQCP problem to a one-parameter family of DCP problems, for bisection.\n",
      "\n",
      "********************************************************************************\n",
      "Preparing to bisect problem\n",
      "\n",
      "minimize 0.0\n",
      "subject to var0 <= 1.0\n",
      "           var77 <= Promote(0.0001, (4,)) @ (Promote(1.0, (4,)) + [[0.46001378 0.15617909 0.27034805 0.85518579 0.77222292 0.51408885]\n",
      " [0.46834263 0.55608997 0.38631106 0.73508984 0.56170251 0.47718271]\n",
      " [0.29881265 0.46879612 0.37403332 0.66118965 0.81066786 0.5048418 ]\n",
      " [0.5947852  0.82123284 0.2207965  0.03072596 0.81510111 0.56154824]] @ var0) @ [2.51401924 2.59235936 2.5591707  2.52209492]\n",
      "           [[0.46001378 0.15617909 0.27034805 0.85518579 0.77222292 0.51408885]\n",
      " [0.46834263 0.55608997 0.38631106 0.73508984 0.56170251 0.47718271]\n",
      " [0.29881265 0.46879612 0.37403332 0.66118965 0.81066786 0.5048418 ]\n",
      " [0.5947852  0.82123284 0.2207965  0.03072596 0.81510111 0.56154824]] @ var0 + -[1.51401924 1.59235936 1.5591707  1.52209492] <= var77\n",
      "           -[[0.46001378 0.15617909 0.27034805 0.85518579 0.77222292 0.51408885]\n",
      " [0.46834263 0.55608997 0.38631106 0.73508984 0.56170251 0.47718271]\n",
      " [0.29881265 0.46879612 0.37403332 0.66118965 0.81066786 0.5048418 ]\n",
      " [0.5947852  0.82123284 0.2207965  0.03072596 0.81510111 0.56154824]] @ var0 + -[1.51401924 1.59235936 1.5591707  1.52209492] <= var77\n",
      "           var108 <= param97\n",
      "           SOC(reshape(1.0, (1,), F) + var108, Hstack(reshape(1.0, (1,), F) + -var108, Promote(2.0, (6,)) @ reshape(var0 + Promote(-Sum(var0, None, False) / 6.0, (6,)), (6,), F)))\n",
      "\n",
      "Finding interval for bisection ...\n",
      "initial lower bound: 0.000000\n",
      "initial upper bound: 1.000000\n",
      "\n",
      "(iteration 0) lower bound: 0.000000\n",
      "(iteration 0) upper bound: 1.000000\n",
      "(iteration 0) query point: 0.500000 \n",
      "(iteration 0) query was feasible. Solution(status=optimal, opt_val=0.0, primal_vars={0: array([0.4999143 , 0.49993545, 0.49986445, 0.49995279, 0.50000925,\n",
      "       0.49993331]), 77: array([0.00021561, 0.0002723 , 0.00023154, 0.00023693]), 108: array([0.19304694])}, dual_vars={57: array([0., 0., 0., 0., 0., 0.]), 95: array([0., 0., 0., 0.]), 80: array([0., 0., 0., 0.]), 85: array([0., 0., 0., 0.]), 100: array([0.]), 116: array([0., 0., 0., 0., 0., 0., 0., 0.])}, attr={'solve_time': 0.071666, 'setup_time': 0.055708, 'num_iters': 8, 'solver_specific_stats': {'x': array([4.99914301e-01, 4.99935449e-01, 4.99864455e-01, 4.99952791e-01,\n",
      "       5.00009252e-01, 4.99933309e-01, 2.15612486e-04, 2.72296373e-04,\n",
      "       2.31538491e-04, 2.36934430e-04, 1.93046943e-01]), 'y': array([0., 0., 0., 0., 0., 0., 0., 0., 0., 0., 0., 0., 0., 0., 0., 0., 0.,\n",
      "       0., 0., 0., 0., 0., 0., 0., 0., 0., 0., 0., 0., 0., 0., 0., 0., 0.,\n",
      "       0., 0., 0.]), 's': array([ 4.99914301e-01,  4.99935449e-01,  4.99864455e-01,  4.99952791e-01,\n",
      "        5.00009252e-01,  4.99933309e-01,  2.15612487e-04,  2.72296372e-04,\n",
      "        2.31538491e-04,  2.36934430e-04,  5.00085699e-01,  5.00064551e-01,\n",
      "        5.00135545e-01,  5.00047209e-01,  4.99990748e-01,  5.00066691e-01,\n",
      "        4.16378157e-04,  3.99687148e-04,  4.23355019e-04,  3.99120168e-04,\n",
      "        3.69274486e-04,  4.62021849e-04,  3.95488788e-04,  4.02206251e-04,\n",
      "        6.19504850e-05,  8.25708937e-05,  6.75881917e-05,  7.16626059e-05,\n",
      "        3.06953057e-01,  1.19304694e+00,  8.06953057e-01, -4.12504954e-05,\n",
      "        1.04576400e-06, -1.40942786e-04,  3.57300995e-05,  1.48651306e-04,\n",
      "       -3.23388844e-06]), 'info': {'statusVal': 1, 'iter': 8, 'pobj': 0.0, 'dobj': -0.0, 'resPri': 8.36008853644825e-13, 'resDual': 0.0, 'relGap': 0.0, 'resInfeas': nan, 'resUnbdd': nan, 'solveTime': 0.071666, 'setupTime': 0.055708, 'status': 'Solved'}}}))\n",
      "\n",
      "(iteration 5) lower bound: 0.000000\n",
      "(iteration 5) upper bound: 0.031250\n",
      "(iteration 5) query point: 0.015625 \n",
      "(iteration 5) query was feasible. Solution(status=optimal, opt_val=0.0, primal_vars={0: array([0.49991432, 0.49993547, 0.49986447, 0.49995281, 0.50000927,\n",
      "       0.49993332]), 77: array([0.00021562, 0.00027237, 0.00023156, 0.00023697]), 108: array([0.00603272])}, dual_vars={57: array([0., 0., 0., 0., 0., 0.]), 95: array([0., 0., 0., 0.]), 80: array([0., 0., 0., 0.]), 85: array([0., 0., 0., 0.]), 100: array([0.]), 116: array([0., 0., 0., 0., 0., 0., 0., 0.])}, attr={'solve_time': 0.063125, 'setup_time': 0.048166, 'num_iters': 8, 'solver_specific_stats': {'x': array([4.99914318e-01, 4.99935471e-01, 4.99864469e-01, 4.99952808e-01,\n",
      "       5.00009268e-01, 4.99933325e-01, 2.15622276e-04, 2.72367733e-04,\n",
      "       2.31560131e-04, 2.36969567e-04, 6.03271697e-03]), 'y': array([0., 0., 0., 0., 0., 0., 0., 0., 0., 0., 0., 0., 0., 0., 0., 0., 0.,\n",
      "       0., 0., 0., 0., 0., 0., 0., 0., 0., 0., 0., 0., 0., 0., 0., 0., 0.,\n",
      "       0., 0., 0.]), 's': array([ 4.99914318e-01,  4.99935471e-01,  4.99864469e-01,  4.99952808e-01,\n",
      "        5.00009268e-01,  4.99933325e-01,  2.15622277e-04,  2.72367732e-04,\n",
      "        2.31560131e-04,  2.36969567e-04,  5.00085682e-01,  5.00064529e-01,\n",
      "        5.00135531e-01,  5.00047192e-01,  4.99990732e-01,  5.00066675e-01,\n",
      "        4.16368379e-04,  3.99615802e-04,  4.23333393e-04,  3.99085044e-04,\n",
      "        3.69234378e-04,  4.62038628e-04,  3.95457568e-04,  4.02187441e-04,\n",
      "        6.20101724e-05,  8.26968337e-05,  6.76626903e-05,  7.17516903e-05,\n",
      "        9.59228303e-03,  1.00603272e+00,  9.93967283e-01, -4.12508311e-05,\n",
      "        1.05589010e-06, -1.40947696e-04,  3.57291348e-05,  1.48649582e-04,\n",
      "       -3.23607946e-06]), 'info': {'statusVal': 1, 'iter': 8, 'pobj': 0.0, 'dobj': -0.0, 'resPri': 9.49168320419601e-13, 'resDual': 0.0, 'relGap': 0.0, 'resInfeas': nan, 'resUnbdd': nan, 'solveTime': 0.063125, 'setupTime': 0.048166, 'status': 'Solved'}}}))\n",
      "\n",
      "(iteration 10) lower bound: 0.000000\n",
      "(iteration 10) upper bound: 0.000977\n",
      "(iteration 10) query point: 0.000488 \n",
      "(iteration 10) query was feasible. Solution(status=optimal, opt_val=0.0, primal_vars={0: array([0.49991432, 0.49993547, 0.49986447, 0.49995281, 0.50000927,\n",
      "       0.49993332]), 77: array([0.00021562, 0.00027237, 0.00023156, 0.00023697]), 108: array([0.00018852])}, dual_vars={57: array([0., 0., 0., 0., 0., 0.]), 95: array([0., 0., 0., 0.]), 80: array([0., 0., 0., 0.]), 85: array([0., 0., 0., 0.]), 100: array([0.]), 116: array([0., 0., 0., 0., 0., 0., 0., 0.])}, attr={'solve_time': 0.053291, 'setup_time': 0.061292, 'num_iters': 8, 'solver_specific_stats': {'x': array([4.99914318e-01, 4.99935471e-01, 4.99864469e-01, 4.99952808e-01,\n",
      "       5.00009268e-01, 4.99933325e-01, 2.15622286e-04, 2.72367804e-04,\n",
      "       2.31560152e-04, 2.36969602e-04, 1.88522405e-04]), 'y': array([0., 0., 0., 0., 0., 0., 0., 0., 0., 0., 0., 0., 0., 0., 0., 0., 0.,\n",
      "       0., 0., 0., 0., 0., 0., 0., 0., 0., 0., 0., 0., 0., 0., 0., 0., 0.,\n",
      "       0., 0., 0.]), 's': array([ 4.99914318e-01,  4.99935471e-01,  4.99864469e-01,  4.99952808e-01,\n",
      "        5.00009268e-01,  4.99933325e-01,  2.15622287e-04,  2.72367804e-04,\n",
      "        2.31560153e-04,  2.36969603e-04,  5.00085682e-01,  5.00064529e-01,\n",
      "        5.00135531e-01,  5.00047192e-01,  4.99990732e-01,  5.00066675e-01,\n",
      "        4.16368369e-04,  3.99615731e-04,  4.23333371e-04,  3.99085009e-04,\n",
      "        3.69234338e-04,  4.62038645e-04,  3.95457537e-04,  4.02187422e-04,\n",
      "        6.20102318e-05,  8.26969596e-05,  6.76627646e-05,  7.17517792e-05,\n",
      "        2.99758845e-04,  1.00018852e+00,  9.99811478e-01, -4.12508314e-05,\n",
      "        1.05590025e-06, -1.40947701e-04,  3.57291338e-05,  1.48649580e-04,\n",
      "       -3.23608165e-06]), 'info': {'statusVal': 1, 'iter': 8, 'pobj': 0.0, 'dobj': -0.0, 'resPri': 1.0565227094886572e-12, 'resDual': 0.0, 'relGap': 0.0, 'resInfeas': nan, 'resUnbdd': nan, 'solveTime': 0.053291, 'setupTime': 0.061292, 'status': 'Solved'}}}))\n",
      "\n",
      "(iteration 15) lower bound: 0.000000\n",
      "(iteration 15) upper bound: 0.000031\n",
      "(iteration 15) query point: 0.000015 \n",
      "(iteration 15) query was feasible. Solution(status=optimal, opt_val=0.0, primal_vars={0: array([0.49991432, 0.49993547, 0.49986447, 0.49995281, 0.50000927,\n",
      "       0.49993332]), 77: array([0.00021562, 0.00027237, 0.00023156, 0.00023697]), 108: array([5.89132516e-06])}, dual_vars={57: array([0., 0., 0., 0., 0., 0.]), 95: array([0., 0., 0., 0.]), 80: array([0., 0., 0., 0.]), 85: array([0., 0., 0., 0.]), 100: array([0.]), 116: array([0., 0., 0., 0., 0., 0., 0., 0.])}, attr={'solve_time': 0.0535, 'setup_time': 0.0365, 'num_iters': 8, 'solver_specific_stats': {'x': array([4.99914318e-01, 4.99935471e-01, 4.99864469e-01, 4.99952808e-01,\n",
      "       5.00009268e-01, 4.99933325e-01, 2.15622286e-04, 2.72367804e-04,\n",
      "       2.31560152e-04, 2.36969602e-04, 5.89132516e-06]), 'y': array([0., 0., 0., 0., 0., 0., 0., 0., 0., 0., 0., 0., 0., 0., 0., 0., 0.,\n",
      "       0., 0., 0., 0., 0., 0., 0., 0., 0., 0., 0., 0., 0., 0., 0., 0., 0.,\n",
      "       0., 0., 0.]), 's': array([ 4.99914318e-01,  4.99935471e-01,  4.99864469e-01,  4.99952808e-01,\n",
      "        5.00009268e-01,  4.99933325e-01,  2.15622287e-04,  2.72367804e-04,\n",
      "        2.31560153e-04,  2.36969603e-04,  5.00085682e-01,  5.00064529e-01,\n",
      "        5.00135531e-01,  5.00047192e-01,  4.99990732e-01,  5.00066675e-01,\n",
      "        4.16368370e-04,  3.99615731e-04,  4.23333371e-04,  3.99085009e-04,\n",
      "        3.69234338e-04,  4.62038645e-04,  3.95457537e-04,  4.02187422e-04,\n",
      "        6.20102321e-05,  8.26969599e-05,  6.76627648e-05,  7.17517795e-05,\n",
      "        9.36746390e-06,  1.00000589e+00,  9.99994109e-01, -4.12508314e-05,\n",
      "        1.05590026e-06, -1.40947701e-04,  3.57291338e-05,  1.48649580e-04,\n",
      "       -3.23608165e-06]), 'info': {'statusVal': 1, 'iter': 8, 'pobj': 0.0, 'dobj': -0.0, 'resPri': 9.48734933085768e-13, 'resDual': 0.0, 'relGap': 0.0, 'resInfeas': nan, 'resUnbdd': nan, 'solveTime': 0.0535, 'setupTime': 0.0365, 'status': 'Solved'}}}))\n",
      "\n",
      "Bisection completed, with lower bound 0.000000 and upper bound 0.0000010\n",
      "********************************************************************************\n",
      "\n"
     ]
    },
    {
     "data": {
      "text/plain": [
       "1.1238185308117255e-08"
      ]
     },
     "execution_count": 22,
     "metadata": {},
     "output_type": "execute_result"
    }
   ],
   "source": [
    "prob.solve(qcp=True, verbose=True, solver=cp.SCS)"
   ]
  },
  {
   "cell_type": "code",
   "execution_count": 23,
   "id": "01936b2a-4eb1-435e-9d49-5a1b9fd8b37e",
   "metadata": {},
   "outputs": [
    {
     "data": {
      "text/plain": [
       "array([0.5, 0.5, 0.5, 0.5, 0.5, 0.5])"
      ]
     },
     "execution_count": 23,
     "metadata": {},
     "output_type": "execute_result"
    }
   ],
   "source": [
    "np.round(x.value, 2)"
   ]
  },
  {
   "cell_type": "code",
   "execution_count": 24,
   "id": "c8ba70f0-5ce7-4cb0-98f1-8f064115864d",
   "metadata": {},
   "outputs": [
    {
     "data": {
      "text/plain": [
       "array([0.5, 0.5, 0.5, 0.5, 0.5, 0.5])"
      ]
     },
     "execution_count": 24,
     "metadata": {},
     "output_type": "execute_result"
    }
   ],
   "source": [
    "xtarget"
   ]
  },
  {
   "cell_type": "code",
   "execution_count": null,
   "id": "b2ed64e6",
   "metadata": {},
   "outputs": [],
   "source": []
  }
 ],
 "metadata": {
  "kernelspec": {
   "display_name": "Python 3 (ipykernel)",
   "language": "python",
   "name": "python3"
  },
  "language_info": {
   "codemirror_mode": {
    "name": "ipython",
    "version": 3
   },
   "file_extension": ".py",
   "mimetype": "text/x-python",
   "name": "python",
   "nbconvert_exporter": "python",
   "pygments_lexer": "ipython3",
   "version": "3.9.7"
  }
 },
 "nbformat": 4,
 "nbformat_minor": 5
}
